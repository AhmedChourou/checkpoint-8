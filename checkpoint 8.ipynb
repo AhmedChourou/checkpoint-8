{
 "cells": [
  {
   "cell_type": "code",
   "execution_count": null,
   "id": "69cf7be0-5742-4c04-88c3-a7cfb59ece8e",
   "metadata": {},
   "outputs": [],
   "source": [
    "a=open('python.txt')\n",
    "a.read()"
   ]
  },
  {
   "cell_type": "code",
   "execution_count": null,
   "id": "3fc29ff1-5b51-4e96-a4d6-3b57b7add232",
   "metadata": {},
   "outputs": [],
   "source": [
    "a=open('python.txt')\n",
    "n=int(input('enter how many lines you wish to read: '))\n",
    "for i in range(f):\n",
    "    line=a.readline()\n",
    "    print(line)"
   ]
  },
  {
   "cell_type": "code",
   "execution_count": null,
   "id": "4347942e-ac7c-467c-8fe6-a3b3a0ccab5a",
   "metadata": {},
   "outputs": [],
   "source": [
    "a=open('python.txt')\n",
    "b=a.readlines()\n",
    "n=int(input('enter how many lines you wish to read at the end: '))\n",
    "c=b[-n:]\n",
    "print(c)"
   ]
  },
  {
   "cell_type": "code",
   "execution_count": null,
   "id": "4b30679c-c560-4ee1-b54e-a1bc4c0e95ec",
   "metadata": {},
   "outputs": [],
   "source": [
    "b=input('enter your paragraph that you wish to write in this file: ')\n",
    "with open('text.txt','w') as a:\n",
    "    a.write(b)\n",
    "x=b.split(' ')\n",
    "print(len(x))"
   ]
  },
  {
   "cell_type": "code",
   "execution_count": null,
   "id": "13256568-b342-4f5d-b958-ff694f7b6ed2",
   "metadata": {},
   "outputs": [],
   "source": []
  }
 ],
 "metadata": {
  "kernelspec": {
   "display_name": "Python 3",
   "language": "python",
   "name": "python3"
  },
  "language_info": {
   "codemirror_mode": {
    "name": "ipython",
    "version": 3
   },
   "file_extension": ".py",
   "mimetype": "text/x-python",
   "name": "python",
   "nbconvert_exporter": "python",
   "pygments_lexer": "ipython3",
   "version": "3.8.8"
  }
 },
 "nbformat": 4,
 "nbformat_minor": 5
}
